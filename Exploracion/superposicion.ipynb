{
 "cells": [
  {
   "cell_type": "code",
   "execution_count": 59,
   "id": "e6f69c6f",
   "metadata": {},
   "outputs": [
    {
     "data": {
      "text/plain": [
       "array([[ 0.497, -0.138,  0.648,  1.523],\n",
       "       [-0.234, -0.234,  1.579,  0.767],\n",
       "       [-0.469,  0.543, -0.463, -0.466],\n",
       "       [ 0.242, -1.913, -1.725, -0.562],\n",
       "       [-1.013,  0.314, -0.908, -1.412],\n",
       "       [ 1.466, -0.226,  0.068, -1.425],\n",
       "       [-0.544,  0.111, -1.151,  0.376],\n",
       "       [-0.601, -0.292, -0.602,  1.852]])"
      ]
     },
     "execution_count": 59,
     "metadata": {},
     "output_type": "execute_result"
    }
   ],
   "source": [
    "import numpy as np\n",
    "\n",
    "# Mejora de la legibilidad numérica\n",
    "np.set_printoptions(precision=3, suppress=True)\n",
    "\n",
    "# -----------------------------\n",
    "# Paso 0 – Creamos dos matrices de activaciones de ejemplo\n",
    "# -----------------------------\n",
    "np.random.seed(42)\n",
    "n, p = 8, 4         # 8 ejemplos, 4 neuronas\n",
    "X = np.random.randn(n, p)\n",
    "X"
   ]
  },
  {
   "cell_type": "code",
   "execution_count": 60,
   "id": "b835d1d9",
   "metadata": {},
   "outputs": [
    {
     "data": {
      "text/plain": [
       "array([[ 0.44 , -0.612,  0.606, -0.458],\n",
       "       [-0.106, -1.12 , -0.19 ,  0.175],\n",
       "       [-0.053,  0.411, -0.197, -0.197],\n",
       "       [-0.521, -1.508, -0.748,  0.472],\n",
       "       [-0.74 , -0.693, -0.11 , -0.334],\n",
       "       [ 0.981,  0.17 ,  0.536,  0.323],\n",
       "       [-0.91 , -0.088, -0.18 ,  0.525],\n",
       "       [-0.78 , -0.268, -0.734, -0.413]])"
      ]
     },
     "execution_count": 60,
     "metadata": {},
     "output_type": "execute_result"
    }
   ],
   "source": [
    "\n",
    "# Para Y creamos algo relacionado pero no idéntico\n",
    "transform = np.array([[0.9, 0.0, 0.0, 0.0],\n",
    "                      [0.0, 0.6, 0.0, 0.0],\n",
    "                      [0.0, 0.0, 0.3, 0.0],\n",
    "                      [0.0, 0.0, 0.0, 0.1]])\n",
    "Y = X @ transform + 0.5 * np.random.randn(n, p)\n",
    "Y"
   ]
  },
  {
   "cell_type": "code",
   "execution_count": 61,
   "id": "297a3171",
   "metadata": {},
   "outputs": [
    {
     "data": {
      "text/plain": [
       "array([[ 0.651, -0.148,  0.733, -0.47 ],\n",
       "       [ 0.105, -0.657, -0.063,  0.163],\n",
       "       [ 0.158,  0.875, -0.07 , -0.209],\n",
       "       [-0.31 , -1.044, -0.621,  0.461],\n",
       "       [-0.529, -0.23 ,  0.017, -0.346],\n",
       "       [ 1.192,  0.634,  0.663,  0.311],\n",
       "       [-0.698,  0.375, -0.052,  0.514],\n",
       "       [-0.569,  0.196, -0.607, -0.425]])"
      ]
     },
     "execution_count": 61,
     "metadata": {},
     "output_type": "execute_result"
    }
   ],
   "source": [
    "\n",
    "# -----------------------------\n",
    "# Paso 1 – Centramos cada matriz\n",
    "# -----------------------------\n",
    "Xc = X - X.mean(axis=0)\n",
    "Yc = Y - Y.mean(axis=0)\n",
    "Yc"
   ]
  },
  {
   "cell_type": "code",
   "execution_count": 62,
   "id": "d2c0da3e",
   "metadata": {},
   "outputs": [],
   "source": [
    "\n",
    "# -----------------------------\n",
    "# Paso 2 – Descomposición PCA vía SVD y selección de las k bases principales\n",
    "# -----------------------------\n",
    "k = 4\n",
    "Ux, Sx, Vhx = np.linalg.svd(Xc, full_matrices=False)   # Vhx tiene forma (p, p)\n",
    "Uy, Sy, Vhy = np.linalg.svd(Yc, full_matrices=False)\n",
    "\n",
    "V_k = Vhx.T[:, :k]     # columnas ≡ vectores propios de X (p × k)\n",
    "U_k = Vhy.T[:, :k]     # columnas ≡ vectores propios de Y (p × k)\n"
   ]
  },
  {
   "cell_type": "code",
   "execution_count": 70,
   "id": "e9b23716",
   "metadata": {},
   "outputs": [
    {
     "name": "stdout",
     "output_type": "stream",
     "text": [
      "[[-0.472  0.129  0.201 -0.278]\n",
      " [-0.44   0.363 -0.082  0.656]\n",
      " [ 0.121  0.029 -0.394 -0.169]\n",
      " [ 0.409 -0.312  0.652  0.363]\n",
      " [ 0.406 -0.045 -0.526  0.263]\n",
      " [ 0.31   0.644  0.258 -0.381]\n",
      " [ 0.039 -0.336 -0.162 -0.312]\n",
      " [-0.373 -0.473  0.054 -0.143]]\n",
      "\n",
      "[3.62  2.693 2.309 1.145]\n",
      "\n",
      "[[ 0.043 -0.104 -0.533 -0.838]\n",
      " [ 0.5    0.167  0.719 -0.452]\n",
      " [ 0.618 -0.748 -0.127  0.206]\n",
      " [-0.605 -0.634  0.427 -0.224]]\n"
     ]
    }
   ],
   "source": [
    "print(Ux); print(\"\");print(Sx); print(\"\");print(Vhx)"
   ]
  },
  {
   "cell_type": "code",
   "execution_count": 63,
   "id": "eae0e6fe",
   "metadata": {},
   "outputs": [
    {
     "name": "stdout",
     "output_type": "stream",
     "text": [
      "[[ 0.043  0.5    0.618 -0.605]\n",
      " [-0.104  0.167 -0.748 -0.634]\n",
      " [-0.533  0.719 -0.127  0.427]\n",
      " [-0.838 -0.452  0.206 -0.224]] \n",
      "------\n",
      " [[-0.699  0.462 -0.063 -0.543]\n",
      " [-0.489 -0.846 -0.202 -0.066]\n",
      " [-0.517  0.201  0.141  0.82 ]\n",
      " [ 0.072  0.176 -0.967  0.169]] \n",
      "------\n",
      " [[ 0.043 -0.104 -0.533 -0.838]\n",
      " [ 0.5    0.167  0.719 -0.452]\n",
      " [ 0.618 -0.748 -0.127  0.206]\n",
      " [-0.605 -0.634  0.427 -0.224]]\n"
     ]
    }
   ],
   "source": [
    "print(V_k,\"\\n------\\n\" ,U_k, \"\\n------\\n\", V_k.T )"
   ]
  },
  {
   "cell_type": "code",
   "execution_count": 64,
   "id": "22748b4a",
   "metadata": {},
   "outputs": [
    {
     "data": {
      "text/plain": [
       "array([[ 0.236, -0.146,  0.754, -0.596],\n",
       "       [-0.836,  0.154,  0.474,  0.231],\n",
       "       [ 0.014,  0.929, -0.105, -0.355],\n",
       "       [ 0.496,  0.304,  0.443,  0.682]])"
      ]
     },
     "execution_count": 64,
     "metadata": {},
     "output_type": "execute_result"
    }
   ],
   "source": [
    "\n",
    "# -----------------------------\n",
    "# Paso 3 – Producto entre subespacios\n",
    "# -----------------------------\n",
    "M = V_k.T @ U_k        # (k × k)\n",
    "M"
   ]
  },
  {
   "cell_type": "code",
   "execution_count": 65,
   "id": "2d7428df",
   "metadata": {},
   "outputs": [
    {
     "name": "stdout",
     "output_type": "stream",
     "text": [
      "X centrada:\n",
      " [[ 0.579  0.091  0.967  1.441]\n",
      " [-0.152 -0.005  1.899  0.686]\n",
      " [-0.387  0.772 -0.144 -0.547]\n",
      " [ 0.324 -1.684 -1.406 -0.644]\n",
      " [-0.931  0.544 -0.589 -1.494]\n",
      " [ 1.548  0.004  0.387 -1.506]\n",
      " [-0.462  0.34  -0.832  0.294]\n",
      " [-0.518 -0.062 -0.282  1.771]]\n",
      "\n",
      "Y centrada:\n",
      " [[ 0.651 -0.148  0.733 -0.47 ]\n",
      " [ 0.105 -0.657 -0.063  0.163]\n",
      " [ 0.158  0.875 -0.07  -0.209]\n",
      " [-0.31  -1.044 -0.621  0.461]\n",
      " [-0.529 -0.23   0.017 -0.346]\n",
      " [ 1.192  0.634  0.663  0.311]\n",
      " [-0.698  0.375 -0.052  0.514]\n",
      " [-0.569  0.196 -0.607 -0.425]]\n",
      "\n",
      "V_k (tarea 1, primeras k bases):\n",
      " [[ 0.043  0.5    0.618 -0.605]\n",
      " [-0.104  0.167 -0.748 -0.634]\n",
      " [-0.533  0.719 -0.127  0.427]\n",
      " [-0.838 -0.452  0.206 -0.224]]\n",
      "\n",
      "U_k (tarea 2, primeras k bases):\n",
      " [[-0.699  0.462 -0.063 -0.543]\n",
      " [-0.489 -0.846 -0.202 -0.066]\n",
      " [-0.517  0.201  0.141  0.82 ]\n",
      " [ 0.072  0.176 -0.967  0.169]]\n",
      "\n",
      "M = V_k.T @ U_k:\n",
      " [[ 0.236 -0.146  0.754 -0.596]\n",
      " [-0.836  0.154  0.474  0.231]\n",
      " [ 0.014  0.929 -0.105 -0.355]\n",
      " [ 0.496  0.304  0.443  0.682]]\n",
      "\n",
      "||M||_F^2 = 4.0000\n",
      "SubspaceSim_k(X, Y) = 1.0000\n"
     ]
    }
   ],
   "source": [
    "\n",
    "# -----------------------------\n",
    "# Paso 4 – Norma de Frobenius y métrica SubspaceSim\n",
    "# -----------------------------\n",
    "fro2 = np.linalg.norm(M, ord='fro') ** 2\n",
    "subspace_sim = fro2 / k\n",
    "\n",
    "# -----------------------------\n",
    "# Mostramos resultados intermedios y finales\n",
    "# -----------------------------\n",
    "print(\"X centrada:\\n\", Xc)\n",
    "print(\"\\nY centrada:\\n\", Yc)\n",
    "\n",
    "print(\"\\nV_k (tarea 1, primeras k bases):\\n\", V_k)\n",
    "print(\"\\nU_k (tarea 2, primeras k bases):\\n\", U_k)\n",
    "\n",
    "print(\"\\nM = V_k.T @ U_k:\\n\", M)\n",
    "print(f\"\\n||M||_F^2 = {fro2:.4f}\")\n",
    "print(f\"SubspaceSim_k(X, Y) = {subspace_sim:.4f}\")\n"
   ]
  }
 ],
 "metadata": {
  "kernelspec": {
   "display_name": "factored-minstral",
   "language": "python",
   "name": "python3"
  },
  "language_info": {
   "codemirror_mode": {
    "name": "ipython",
    "version": 3
   },
   "file_extension": ".py",
   "mimetype": "text/x-python",
   "name": "python",
   "nbconvert_exporter": "python",
   "pygments_lexer": "ipython3",
   "version": "3.12.4"
  }
 },
 "nbformat": 4,
 "nbformat_minor": 5
}

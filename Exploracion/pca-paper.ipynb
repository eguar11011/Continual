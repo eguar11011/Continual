{
 "cells": [
  {
   "cell_type": "code",
   "execution_count": 19,
   "id": "cc780373-f493-4f15-9306-cdbb33357382",
   "metadata": {},
   "outputs": [
    {
     "name": "stdout",
     "output_type": "stream",
     "text": [
      "Formas de las matrices después de aplanar:\n",
      "  X : (75, 4)\n",
      "  Y : (75, 4)\n",
      "\n",
      "Varianza explicada (Task X) por los dos primeros PCs:\n",
      "  [0.3342 0.2706 0.2169 0.1784]\n",
      "Varianza explicada (Task Y) por los dos primeros PCs:\n",
      "  [0.3003 0.2739 0.2285 0.1973]\n",
      "\n",
      "SubspaceSim_k (k=5): 0.8000\n"
     ]
    }
   ],
   "source": [
    "import numpy as np\n",
    "\n",
    "# Paso 1 ─────────────── Crear activaciones sintéticas (B × C × H × W)\n",
    "rng = np.random.default_rng(0)\n",
    "B, C, H, W = 3, 4, 5, 5          # 3 imágenes, 4 canales, 5×5 píxeles\n",
    "\n",
    "acts_X = rng.standard_normal((B, C, H, W))\n",
    "acts_Y = rng.standard_normal((B, C, H, W))\n",
    "\n",
    "# Paso 2 ─────────────── Aplanar: (B × C × H × W) ➜ (B·H·W) × C\n",
    "def flatten_conv(out):\n",
    "    out = out.transpose(0, 2, 3, 1)      # B H W C\n",
    "    return out.reshape(-1, out.shape[-1])  # (B·H·W) C\n",
    "\n",
    "X = flatten_conv(acts_X)\n",
    "Y = flatten_conv(acts_Y)\n",
    "\n",
    "# Paso 3 ─────────────── Centrar\n",
    "X_centered = X - X.mean(axis=0, keepdims=True)\n",
    "Y_centered = Y - Y.mean(axis=0, keepdims=True)\n",
    "\n",
    "# Paso 4 ─────────────── PCA clásica vía SVD, top‑k componentes\n",
    "def topk_pca(mat, k):\n",
    "    U, S, Vt = np.linalg.svd(mat, full_matrices=False)\n",
    "    V = Vt.T                     # C × C  (eigenvectores de XᵀX)\n",
    "    Vk = V[:, :k]                # C × k\n",
    "    var_expl = (S**2) / (S**2).sum()\n",
    "    return Vk, var_expl[:k]\n",
    "\n",
    "k = 5\n",
    "V_k, var_X = topk_pca(X_centered, k)\n",
    "U_k, var_Y = topk_pca(Y_centered, k)\n",
    "\n",
    "# Paso 5 ─────────────── Similaridad de subespacios\n",
    "subspace_sim = (1 / k) * np.linalg.norm(V_k.T @ U_k, ord='fro')**2\n",
    "\n",
    "# Mostrar resultados\n",
    "print(\"Formas de las matrices después de aplanar:\")\n",
    "print(\"  X :\", X.shape)\n",
    "print(\"  Y :\", Y.shape)\n",
    "print(\"\\nVarianza explicada (Task X) por los dos primeros PCs:\")\n",
    "print(\" \", np.round(var_X, 4))\n",
    "print(\"Varianza explicada (Task Y) por los dos primeros PCs:\")\n",
    "print(\" \", np.round(var_Y, 4))\n",
    "print(f\"\\nSubspaceSim_k (k={k}): {subspace_sim:.4f}\")\n"
   ]
  },
  {
   "cell_type": "code",
   "execution_count": null,
   "id": "45bb9235-797d-487a-a3ad-85ba5e9e85da",
   "metadata": {},
   "outputs": [],
   "source": []
  },
  {
   "cell_type": "code",
   "execution_count": null,
   "id": "b6fabec8-1fbb-4140-bd6b-47ffa916e167",
   "metadata": {},
   "outputs": [],
   "source": []
  },
  {
   "cell_type": "code",
   "execution_count": null,
   "id": "67f283ef-32ec-4190-a894-686111353c2d",
   "metadata": {},
   "outputs": [],
   "source": []
  }
 ],
 "metadata": {
  "kernelspec": {
   "display_name": "Python 3 (ipykernel)",
   "language": "python",
   "name": "python3"
  },
  "language_info": {
   "codemirror_mode": {
    "name": "ipython",
    "version": 3
   },
   "file_extension": ".py",
   "mimetype": "text/x-python",
   "name": "python",
   "nbconvert_exporter": "python",
   "pygments_lexer": "ipython3",
   "version": "3.10.12"
  }
 },
 "nbformat": 4,
 "nbformat_minor": 5
}

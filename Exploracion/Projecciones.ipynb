{
 "cells": [
  {
   "cell_type": "code",
   "execution_count": 1,
   "id": "0b271569",
   "metadata": {},
   "outputs": [
    {
     "data": {
      "text/plain": [
       "(np.float64(14.333333333333334), np.float64(14.333333333333332))"
      ]
     },
     "execution_count": 1,
     "metadata": {},
     "output_type": "execute_result"
    }
   ],
   "source": [
    "import numpy as np\n",
    "\n",
    "# Example 1: Projection onto a 1‑dimensional subspace  span{v}\n",
    "v = np.array([[2.0], [1.0], [2.0]])                 # column vector in R^3\n",
    "P1 = v @ v.T / (v.T @ v)                            # vvᵀ / (vᵀv)\n",
    "\n",
    "# pick an arbitrary vector x\n",
    "x = np.array([[3.0], [-1.0], [4.0]])\n",
    "\n",
    "proj_x_on_v = P1 @ x                                # projection of x\n",
    "orth_part     = x - proj_x_on_v                     # component orthogonal to v\n",
    "\n",
    "# Example 2: Projection onto a 2‑dimensional subspace  span{e₁, e₂}\n",
    "v1 = np.array([[1.0], [0.0], [0.0]])\n",
    "v2 = np.array([[0.0], [1.0], [0.0]])\n",
    "V  = np.hstack([v1/np.linalg.norm(v1), v2/np.linalg.norm(v2)])   # orthonormal basis\n",
    "P2 = V @ V.T                                        # VVᵀ\n",
    "\n",
    "proj_x_on_plane = P2 @ x\n",
    "\n",
    "# Verify the identity  ‖(P1 − P2)x‖²  = (P1x)ᵀ(I − P2)x + (P2x)ᵀ(I − P1)x\n",
    "lhs  = np.linalg.norm((P1 - P2) @ x)**2\n",
    "rhs  = (proj_x_on_v.T @ ((np.eye(3) - P2) @ x) +\n",
    "        proj_x_on_plane.T @ ((np.eye(3) - P1) @ x))[0, 0]\n",
    "\n",
    "lhs, rhs\n"
   ]
  }
 ],
 "metadata": {
  "kernelspec": {
   "display_name": "factored-minstral",
   "language": "python",
   "name": "python3"
  },
  "language_info": {
   "codemirror_mode": {
    "name": "ipython",
    "version": 3
   },
   "file_extension": ".py",
   "mimetype": "text/x-python",
   "name": "python",
   "nbconvert_exporter": "python",
   "pygments_lexer": "ipython3",
   "version": "3.12.4"
  }
 },
 "nbformat": 4,
 "nbformat_minor": 5
}

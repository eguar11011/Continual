{
 "cells": [
  {
   "cell_type": "code",
   "execution_count": null,
   "id": "c843b26d",
   "metadata": {},
   "outputs": [],
   "source": [
    "from pathlib import Path\n",
    "import torch\n",
    "from models import get_backbone, Classifier\n",
    "from learner import build_learner   # si quieres EWC/replay de nuevo\n",
    "\n",
    "CKPT = Path(\"runs/c10_split5_finetune/ckpt_t0.pt\")   # ← checkpoint que quieras\n",
    "NUM_CLASSES = 5                                    # mismo que usaste\n",
    "\n",
    "# 1. Construye la misma arquitectura\n",
    "backbone = get_backbone(\"resnet18\")\n",
    "model = Classifier(backbone, num_classes=NUM_CLASSES)\n"
   ]
  },
  {
   "cell_type": "code",
   "execution_count": 11,
   "id": "4adae915",
   "metadata": {},
   "outputs": [
    {
     "data": {
      "text/plain": [
       "<All keys matched successfully>"
      ]
     },
     "execution_count": 11,
     "metadata": {},
     "output_type": "execute_result"
    }
   ],
   "source": [
    "backbone = get_backbone(\"resnet18\")\n",
    "model = Classifier(backbone, num_classes=5)\n",
    "\n",
    "ckpt = torch.load(\"runs/c10_split5_finetune/ckpt_t0.pt\", map_location=\"cpu\")\n",
    "model.load_state_dict({k.replace(\"model.\", \"\"): v\n",
    "                       for k, v in ckpt[\"state_dict\"].items()\n",
    "                       if k.startswith(\"model.\")})\n"
   ]
  },
  {
   "cell_type": "code",
   "execution_count": 13,
   "id": "f1a46302",
   "metadata": {},
   "outputs": [
    {
     "data": {
      "text/plain": [
       "tensor([[-5.6881e-02,  7.8313e-04,  4.8624e-02,  ..., -3.4151e-02,\n",
       "         -1.7384e-02, -4.4350e-02],\n",
       "        [ 2.0999e-02,  5.1013e-02,  7.3222e-03,  ..., -1.2841e-01,\n",
       "          5.7620e-02, -1.1406e-02],\n",
       "        [-1.1906e-05, -7.6316e-02,  2.4937e-02,  ...,  1.8320e-02,\n",
       "         -2.1541e-02, -8.3865e-02],\n",
       "        [-3.3253e-02, -7.8902e-02,  8.7411e-04,  ..., -2.0846e-02,\n",
       "         -6.7124e-03,  8.2273e-02],\n",
       "        [ 6.6565e-02,  3.0853e-02, -7.3793e-02,  ..., -2.1618e-02,\n",
       "         -2.5786e-02,  2.4435e-02]])"
      ]
     },
     "execution_count": 13,
     "metadata": {},
     "output_type": "execute_result"
    }
   ],
   "source": [
    "ckpt[\"state_dict\"][\"model.head.weight\"]"
   ]
  }
 ],
 "metadata": {
  "kernelspec": {
   "display_name": "cohere",
   "language": "python",
   "name": "python3"
  },
  "language_info": {
   "codemirror_mode": {
    "name": "ipython",
    "version": 3
   },
   "file_extension": ".py",
   "mimetype": "text/x-python",
   "name": "python",
   "nbconvert_exporter": "python",
   "pygments_lexer": "ipython3",
   "version": "3.12.4"
  }
 },
 "nbformat": 4,
 "nbformat_minor": 5
}
